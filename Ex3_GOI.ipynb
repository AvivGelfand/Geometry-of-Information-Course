{
 "cells": [
  {
   "cell_type": "markdown",
   "metadata": {},
   "source": [
    "# GEOMETRY OF INFORMATION - EX3\n",
    "\n",
    "Made by: Adi Cohen and Aviv Gelfand\n",
    "\n",
    "Lecturer: Prof. Ariel Jaffe\n",
    "\n",
    "---"
   ]
  },
  {
   "cell_type": "markdown",
   "metadata": {},
   "source": [
    "# Graph is Connected ⟺ Adjacency Matrix is Irreducible\n",
    "\n",
    "Let us prove that a graph is connected if and only if its adjacency matrixW is irreducible.\n",
    "\n",
    "\n",
    "Consider a Graph, $G=(E,V)$, and let $W$ be it's adjacency matrix, that shows which nodes can be reached from each other in a singel step. It can be formally defined that: $W:E ↦ \\mathbb{R}^{|V| \\times |V|} \\ \\   w_{ij} \\neq 0 \\longleftrightarrow  (v_i,v_j) ∈ E$ and $w_{ij} = 0$ otherwise.\n",
    "\n",
    "A graph $G$ is **connected** if there is a path between every pair of vertices. Alternatively, a graph can be called connected if every $v_i∈V$  is reachable from at least one other vertex $v_j$.\n",
    "\n",
    "\n",
    "\n",
    "\n",
    "#### (**$\\Rightarrow$**) Suppose $G$ is connected. We need to show that $W$ is irreducible.\n",
    "\n",
    "Since there's a path between any two vertices, it means that for any  i  and  j , you can find a sequence of steps (represented by the nonzero entries in  W ) that connects  i  to  j .\n",
    "This property makes it impossible to permute  W  into a block upper triangular form with more than one block along the diagonal, because there's always a way (a path) to \"reach\" from one part of the graph (matrix) to another, indicating the matrix is irreducible.\n",
    "\n",
    "#### ($⇐$) If the adjacency matrix $W$ is irreducible, then the graph is connected.\n",
    "\n",
    "Suppose $W$ is irreducible. By definition, this means there's no permutation of $W$ that can make it block upper triangular with more than one block along the diagonal.\n",
    "In terms of the graph $G$, this implies for any two vertices $i$ and $j$, there must be a way (a sequence of nonzero entries in $W$) to connect $i$ to $j$, directly or indirectly through other vertices.\n",
    "Thus, for every pair of vertices in $G$, there's a path that connects them, meaning $G$ is connected.\n",
    "\n",
    "### Conclusion\n",
    "This bidirectional proof establishes that a graph $G$ is connected if and only if its adjacency matrix $W$ is irreducible.\n",
    "The irreducibility of  $W$  reflects the ability to \"navigate\" from any vertex $v_i$ to any other vertex $v_j$ in  $G$, which is precisely the definition of a connected graph. \n",
    "\n",
    "#### Bonus:\n",
    "To prove that a graph is connected if its adjacency matrix $ W $ is irreducible, we can use the [Perron-Frobenius theorem](https://en.wikipedia.org/wiki/Perron%E2%80%93Frobenius_theorem), this theorem states that for a non-negative irreducible matrix, the largest eigenvalue has multiplicity one and the corresponding eigenvector has all positive entries. \n",
    "\n",
    "Given that the adjacency matrix $ W $ is irreducible, it implies that the graph is strongly connected. Since $ W $ is irreducible, it follows that the corresponding graph is connected. This is because an irreducible adjacency matrix corresponds to a strongly connected graph, where every vertex is reachable from every other vertex.\n",
    "\n",
    "Therefore, by the Perron-Frobenius theorem, we can conclude that if the adjacency matrix $ W$ of a graph is irreducible, then the graph is connected.\n"
   ]
  },
  {
   "cell_type": "markdown",
   "metadata": {},
   "source": [
    "# 2. Kernel Functions and Mercer's Theorem\n",
    "\n",
    "In this section, we will prove two important properties of kernel function."
   ]
  },
  {
   "cell_type": "markdown",
   "metadata": {},
   "source": [
    "# 3 Kernel PCA to Non-Linearly Distributed Data"
   ]
  },
  {
   "cell_type": "markdown",
   "metadata": {},
   "source": [
    "In this section we will find a parameter setting for which kernel PCA successfully separates \n",
    "the datasets of two moons and circles into two clusters. We will also show a parameter setting for which it does not and try to explain why it fails."
   ]
  }
 ],
 "metadata": {
  "kernelspec": {
   "display_name": "Python 3",
   "language": "python",
   "name": "python3"
  },
  "language_info": {
   "codemirror_mode": {
    "name": "ipython",
    "version": 3
   },
   "file_extension": ".py",
   "mimetype": "text/x-python",
   "name": "python",
   "nbconvert_exporter": "python",
   "pygments_lexer": "ipython3",
   "version": "3.10.11"
  }
 },
 "nbformat": 4,
 "nbformat_minor": 2
}

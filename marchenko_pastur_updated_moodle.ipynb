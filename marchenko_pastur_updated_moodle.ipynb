{
 "cells": [
  {
   "cell_type": "code",
   "execution_count": 1,
   "metadata": {},
   "outputs": [],
   "source": [
    "import numpy as np\n",
    "import matplotlib.pyplot as plt\n",
    "#from mpl_toolkits.mplot3d import Axes3D\n",
    "from sklearn.decomposition import PCA\n",
    "import pandas as pd\n",
    "import scipy\n",
    "from scipy.io import loadmat"
   ]
  },
  {
   "cell_type": "code",
   "execution_count": 9,
   "metadata": {},
   "outputs": [],
   "source": [
    "def marchpast(l, g,sigma):\n",
    "    \"Marchenko-Pastur distribution\"\n",
    "    # input - g determines the shape of the distribution (MP) - sqrt(p/n)\n",
    "    #         sigma - the scale of the normal distribution\n",
    "    #         l - points in axis to compute the MP distribution\n",
    "    # return: the MP distribution for points in l\n",
    "\n",
    "    def m0(a):\n",
    "        \"Element wise maximum of (a,0)\"\n",
    "        return np.maximum(a, np.zeros_like(a))\n",
    "    gplus=(sigma*(1+g**0.5))**2\n",
    "    gminus=(sigma*(1-g**0.5))**2\n",
    "    return np.sqrt(  m0(gplus  - l) *  m0(l- gminus)) / ( 2*np.pi*g*l*(sigma**2))\n",
    "\n",
    "def cv(a):\n",
    "    \n",
    "    \"Covariance matrix\"\n",
    "    return np.matmul(a, a.transpose())/a.shape[1]\n",
    "\n",
    "def randcv(n, p, sigma):\n",
    "    \"\"\"\n",
    "    # Input: \n",
    "    # n,p dimension of random matrix\n",
    "    # sigma - scale of normal distribution\n",
    "    # s - number of random matrices to generate\n",
    "\n",
    "    Returns  s covariance matrices\n",
    "    \"\"\"\n",
    "    r=[]\n",
    "    \n",
    "    #for i in range(s):        \n",
    "    \n",
    "    x=sigma*np.random.normal(size=(n,p))#+np.outer(np.random.normal(scale = signal,size = (1,n)),v)        \n",
    "\n",
    "    x = x-np.mean(x)\n",
    "    r.append(cv(x))\n",
    "    return np.array(r)\n",
    "\n",
    "def EE(a, gamma,sigma):\n",
    "    \"Calculate and show histogram of eigenvalues\"\n",
    "    \n",
    "    ee, ev=np.linalg.eigh(a)\n",
    "    nn, bb, patches=plt.hist(ee.ravel(), \n",
    "                                bins=\"auto\", \n",
    "                                density=True)\n",
    "    x=np.arange(bb[0], bb[-1], 0.003)\n",
    "    y = marchpast(x, gamma,sigma)\n",
    "    return x,y,nn,ee\n",
    "    "
   ]
  },
  {
   "cell_type": "code",
   "execution_count": null,
   "metadata": {},
   "outputs": [],
   "source": []
  },
  {
   "cell_type": "code",
   "execution_count": 11,
   "metadata": {},
   "outputs": [
    {
     "name": "stdout",
     "output_type": "stream",
     "text": [
      "1.7318566673018492\n"
     ]
    },
    {
     "data": {
      "image/png": "[encoded data removed]",
      "text/plain": [
       "<Figure size 432x288 with 1 Axes>"
      ]
     },
     "metadata": {
      "needs_background": "light"
     },
     "output_type": "display_data"
    }
   ],
   "source": [
    "p = 500\n",
    "n = 5000\n",
    "sigma = 1\n",
    "x,y,nn,ee = EE(randcv(p,n,sigma), p/n,sigma)\n",
    "#EE(randcv(5,30,50000, \"N\"), 5.0/30.)\n",
    "plt.plot(x, y)\n",
    "#plt.ylim(top=nn[1:].max() * 1.1)\n",
    "#plt.show()\n",
    "print(np.max(ee))\n",
    "#print(ee)\n"
   ]
  }
 ],
 "metadata": {
  "interpreter": {
   "hash": "954a165b5e2e1e721a08ff56dda67b5112531629a0d1c201d72c8216f3e90fc2"
  },
  "kernelspec": {
   "display_name": "Python 3.8.8 ('base')",
   "language": "python",
   "name": "python3"
  },
  "language_info": {
   "codemirror_mode": {
    "name": "ipython",
    "version": 3
   },
   "file_extension": ".py",
   "mimetype": "text/x-python",
   "name": "python",
   "nbconvert_exporter": "python",
   "pygments_lexer": "ipython3",
   "version": "3.8.8"
  },
  "orig_nbformat": 4
 },
 "nbformat": 4,
 "nbformat_minor": 2
}

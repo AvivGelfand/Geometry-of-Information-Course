{
 "cells": [
  {
   "cell_type": "code",
   "execution_count": 1,
   "metadata": {},
   "outputs": [],
   "source": [
    "import numpy as np\n",
    "import pandas as pd"
   ]
  },
  {
   "cell_type": "markdown",
   "metadata": {},
   "source": [
    "# 1. Marchenko-Pastur distribution"
   ]
  },
  {
   "cell_type": "markdown",
   "metadata": {},
   "source": [
    "## Application on the Spiked Model"
   ]
  },
  {
   "cell_type": "code",
   "execution_count": null,
   "metadata": {},
   "outputs": [],
   "source": [
    "import numpy as np\n",
    "\n",
    "def generate_spiked_covariance_vectors(n, p, sigma):\n",
    "    \"\"\"\n",
    "    Generate n random vectors of dimension p according to the spiked covariance model.\n",
    "\n",
    "    Parameters:\n",
    "    n (int): Number of vectors to generate.\n",
    "    p (int): Dimension of each vector.\n",
    "    sigma (float): Scaling factor for the Gaussian noise.\n",
    "\n",
    "    Returns:\n",
    "    np.ndarray: An array of shape (n, p) containing the generated vectors.\n",
    "    \"\"\"\n",
    "    # Fixed vector v with norm 1\n",
    "    v = np.random.randn(p)\n",
    "    v /= np.linalg.norm(v)\n",
    "\n",
    "    # Initialize an array to store the vectors\n",
    "    vectors = np.zeros((n, p))\n",
    "\n",
    "    for i in range(n):\n",
    "        # Generate a_i from the standard normal distribution\n",
    "        a_i = np.random.randn()\n",
    "\n",
    "        # Generate a standard random multivariate Gaussian vector\n",
    "        xi = np.random.randn(p)\n",
    "\n",
    "        # Compute the spiked covariance model vector\n",
    "        vectors[i] = a_i * v + sigma * xi\n",
    "\n",
    "    return vectors\n",
    "\n",
    "# Example usage\n",
    "n = 300  # Number of vectors\n",
    "p = 50   # Dimension of each vector\n",
    "sigma = 1.0  # Scaling factor for Gaussian noise\n",
    "\n",
    "vectors = generate_spiked_covariance_vectors(n, p, sigma)\n",
    "# relinquish\n"
   ]
  },
  {
   "cell_type": "code",
   "execution_count": 2,
   "metadata": {},
   "outputs": [],
   "source": [
    "import numpy as np\n",
    "import matplotlib.pyplot as plt\n",
    "\n",
    "def generate_spiked_data(n, p, spikes):\n",
    "    \"\"\"\n",
    "    Generate random vectors according to the spiked covariance model.\n",
    "\n",
    "    Parameters:\n",
    "    n (int): Number of samples.\n",
    "    p (int): Dimension of each sample.\n",
    "    spikes (list): Positions in the covariance matrix to spike.\n",
    "\n",
    "    Returns:\n",
    "    np.ndarray: Generated data of shape (n, p).\n",
    "    \"\"\"\n",
    "    # Base covariance matrix (identity for simplicity)\n",
    "    covariance_matrix = np.eye(p)\n",
    "\n",
    "    # Introducing spikes\n",
    "    for spike in spikes:\n",
    "        covariance_matrix[spike, spike] *= 10  # Increasing the variance\n",
    "\n",
    "    # Generate random vectors using multivariate normal distribution\n",
    "    mean_vector = np.zeros(p)\n",
    "    data = np.random.multivariate_normal(mean_vector, covariance_matrix, n)\n",
    "\n",
    "    return data\n",
    "\n",
    "# Parameters\n",
    "n = 300  # Number of vectors\n",
    "p = 50    # Dimension of each vector\n",
    "spikes = [0, 1, 2]  # Spiking first three dimensions\n",
    "\n",
    "# Generate data\n",
    "data = generate_spiked_data(n, p, spikes)\n"
   ]
  },
  {
   "cell_type": "code",
   "execution_count": 3,
   "metadata": {},
   "outputs": [
    {
     "data": {
      "image/png": "[encoded data removed]",
      "text/plain": [
       "<Figure size 640x480 with 1 Axes>"
      ]
     },
     "metadata": {},
     "output_type": "display_data"
    }
   ],
   "source": [
    "\n",
    "# Eigenvalues of the sample covariance matrix\n",
    "sample_cov_matrix = np.cov(data, rowvar=False)\n",
    "eigenvalues, _ = np.linalg.eigh(sample_cov_matrix)\n",
    "\n",
    "# Plot the histogram of the eigenvalues\n",
    "plt.hist(eigenvalues, bins=50, density=True)\n",
    "plt.title(\"Histogram of Eigenvalues of the Sample Covariance Matrix\")\n",
    "plt.xlabel(\"Eigenvalue\")\n",
    "plt.ylabel(\"Density\")\n",
    "plt.show()"
   ]
  }
 ],
 "metadata": {
  "kernelspec": {
   "display_name": "Python 3",
   "language": "python",
   "name": "python3"
  },
  "language_info": {
   "codemirror_mode": {
    "name": "ipython",
    "version": 3
   },
   "file_extension": ".py",
   "mimetype": "text/x-python",
   "name": "python",
   "nbconvert_exporter": "python",
   "pygments_lexer": "ipython3",
   "version": "3.10.11"
  }
 },
 "nbformat": 4,
 "nbformat_minor": 2
}
